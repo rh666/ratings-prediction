{
 "cells": [
  {
   "cell_type": "code",
   "execution_count": 182,
   "metadata": {},
   "outputs": [],
   "source": [
    "import numpy as np\n",
    "import pandas as pd\n",
    "import matplotlib.pyplot as plt\n",
    "from IPython.display import Image\n",
    "\n",
    "%matplotlib inline"
   ]
  },
  {
   "cell_type": "markdown",
   "metadata": {},
   "source": [
    "## data source\n",
    "## https://grouplens.org/datasets/movielens/100k/"
   ]
  },
  {
   "cell_type": "code",
   "execution_count": 187,
   "metadata": {
    "scrolled": true
   },
   "outputs": [
    {
     "name": "stdout",
     "output_type": "stream",
     "text": [
      "[Errno 2] No such file or directory: 'project/ml-100k'\n",
      "/Users/ruihua/Desktop/UdemyMachineLearning-master/Module 3/project/ml-100k\n",
      "\u001b[34mDATA\u001b[m\u001b[m/         u.data        u.user        u3.base       u5.test\r\n",
      "README        u.genre       u1.base       u3.test       ua.base\r\n",
      "\u001b[31mallbut.pl\u001b[m\u001b[m*    u.info        u1.test       u4.base       ua.test\r\n",
      "\u001b[34mimg\u001b[m\u001b[m/          u.item        u2.base       u4.test       ub.base\r\n",
      "\u001b[31mmku.sh\u001b[m\u001b[m*       u.occupation  u2.test       u5.base       ub.test\r\n"
     ]
    }
   ],
   "source": [
    "%cd project/ml-100k\n",
    "%ls"
   ]
  },
  {
   "cell_type": "code",
   "execution_count": 174,
   "metadata": {
    "scrolled": true
   },
   "outputs": [
    {
     "name": "stdout",
     "output_type": "stream",
     "text": [
      "196\t242\t3\t881250949\r\n",
      "186\t302\t3\t891717742\r\n",
      "22\t377\t1\t878887116\r\n",
      "244\t51\t2\t880606923\r\n",
      "166\t346\t1\t886397596\r\n",
      "298\t474\t4\t884182806\r\n",
      "115\t265\t2\t881171488\r\n",
      "253\t465\t5\t891628467\r\n",
      "305\t451\t3\t886324817\r\n",
      "6\t86\t3\t883603013\r\n"
     ]
    }
   ],
   "source": [
    "!head u.data"
   ]
  },
  {
   "cell_type": "code",
   "execution_count": 7,
   "metadata": {},
   "outputs": [],
   "source": [
    "names = ['user_id','item_id','rating','timestamp']"
   ]
  },
  {
   "cell_type": "code",
   "execution_count": 8,
   "metadata": {},
   "outputs": [],
   "source": [
    "df = pd.read_csv('u.data',sep='\\t',names=names)"
   ]
  },
  {
   "cell_type": "code",
   "execution_count": 9,
   "metadata": {},
   "outputs": [
    {
     "data": {
      "text/html": [
       "<div>\n",
       "<style scoped>\n",
       "    .dataframe tbody tr th:only-of-type {\n",
       "        vertical-align: middle;\n",
       "    }\n",
       "\n",
       "    .dataframe tbody tr th {\n",
       "        vertical-align: top;\n",
       "    }\n",
       "\n",
       "    .dataframe thead th {\n",
       "        text-align: right;\n",
       "    }\n",
       "</style>\n",
       "<table border=\"1\" class=\"dataframe\">\n",
       "  <thead>\n",
       "    <tr style=\"text-align: right;\">\n",
       "      <th></th>\n",
       "      <th>user_id</th>\n",
       "      <th>item_id</th>\n",
       "      <th>rating</th>\n",
       "      <th>timestamp</th>\n",
       "    </tr>\n",
       "  </thead>\n",
       "  <tbody>\n",
       "    <tr>\n",
       "      <th>0</th>\n",
       "      <td>196</td>\n",
       "      <td>242</td>\n",
       "      <td>3</td>\n",
       "      <td>881250949</td>\n",
       "    </tr>\n",
       "    <tr>\n",
       "      <th>1</th>\n",
       "      <td>186</td>\n",
       "      <td>302</td>\n",
       "      <td>3</td>\n",
       "      <td>891717742</td>\n",
       "    </tr>\n",
       "    <tr>\n",
       "      <th>2</th>\n",
       "      <td>22</td>\n",
       "      <td>377</td>\n",
       "      <td>1</td>\n",
       "      <td>878887116</td>\n",
       "    </tr>\n",
       "    <tr>\n",
       "      <th>3</th>\n",
       "      <td>244</td>\n",
       "      <td>51</td>\n",
       "      <td>2</td>\n",
       "      <td>880606923</td>\n",
       "    </tr>\n",
       "    <tr>\n",
       "      <th>4</th>\n",
       "      <td>166</td>\n",
       "      <td>346</td>\n",
       "      <td>1</td>\n",
       "      <td>886397596</td>\n",
       "    </tr>\n",
       "  </tbody>\n",
       "</table>\n",
       "</div>"
      ],
      "text/plain": [
       "   user_id  item_id  rating  timestamp\n",
       "0      196      242       3  881250949\n",
       "1      186      302       3  891717742\n",
       "2       22      377       1  878887116\n",
       "3      244       51       2  880606923\n",
       "4      166      346       1  886397596"
      ]
     },
     "execution_count": 9,
     "metadata": {},
     "output_type": "execute_result"
    }
   ],
   "source": [
    "df.head()"
   ]
  },
  {
   "cell_type": "code",
   "execution_count": 10,
   "metadata": {},
   "outputs": [
    {
     "name": "stdout",
     "output_type": "stream",
     "text": [
      "943 users\n",
      "1682 items\n"
     ]
    }
   ],
   "source": [
    "n_users = df.user_id.unique().shape[0]\n",
    "n_items = df.item_id.unique().shape[0]\n",
    "print str(n_users) + ' users'\n",
    "print str(n_items) + ' items'"
   ]
  },
  {
   "cell_type": "code",
   "execution_count": 11,
   "metadata": {},
   "outputs": [],
   "source": [
    "#create a rating matrix\n",
    "ratings = np.zeros([n_users, n_items])"
   ]
  },
  {
   "cell_type": "code",
   "execution_count": 12,
   "metadata": {
    "scrolled": true
   },
   "outputs": [
    {
     "data": {
      "text/plain": [
       "array([[5., 3., 4., 3., 3., 5., 4., 1., 5., 3.],\n",
       "       [4., 0., 0., 0., 0., 0., 0., 0., 0., 2.],\n",
       "       [0., 0., 0., 0., 0., 0., 0., 0., 0., 0.],\n",
       "       [0., 0., 0., 0., 0., 0., 0., 0., 0., 0.],\n",
       "       [4., 3., 0., 0., 0., 0., 0., 0., 0., 0.],\n",
       "       [4., 0., 0., 0., 0., 0., 2., 4., 4., 0.],\n",
       "       [0., 0., 0., 5., 0., 0., 5., 5., 5., 4.],\n",
       "       [0., 0., 0., 0., 0., 0., 3., 0., 0., 0.],\n",
       "       [0., 0., 0., 0., 0., 5., 4., 0., 0., 0.],\n",
       "       [4., 0., 0., 4., 0., 0., 4., 0., 4., 0.]])"
      ]
     },
     "execution_count": 12,
     "metadata": {},
     "output_type": "execute_result"
    }
   ],
   "source": [
    "for r in df.itertuples():\n",
    "    ratings[r[1]-1,r[2]-1] = r[3]\n",
    "ratings[:10, :10]"
   ]
  },
  {
   "cell_type": "code",
   "execution_count": 73,
   "metadata": {},
   "outputs": [
    {
     "data": {
      "text/plain": [
       "(array([  0,   0,   0, ..., 942, 942, 942]),\n",
       " array([   0,    1,    2, ..., 1187, 1227, 1329]))"
      ]
     },
     "execution_count": 73,
     "metadata": {},
     "output_type": "execute_result"
    }
   ],
   "source": [
    "ratings.nonzero() # index of nonzero elements"
   ]
  },
  {
   "cell_type": "code",
   "execution_count": 109,
   "metadata": {
    "scrolled": true
   },
   "outputs": [
    {
     "data": {
      "text/plain": [
       "Text(0,0.5,'Rating_number')"
      ]
     },
     "execution_count": 109,
     "metadata": {},
     "output_type": "execute_result"
    },
    {
     "data": {
      "image/png": "[encoded data removed]",
      "text/plain": [
       "<Figure size 432x288 with 1 Axes>"
      ]
     },
     "metadata": {},
     "output_type": "display_data"
    }
   ],
   "source": [
    "plt.plot(range(n_items),(ratings>0).sum(axis=0)) \n",
    "# number of raings for each movie\n",
    "plt.xlabel(\"Movie_ID\")\n",
    "plt.ylabel(\"Rating_number\")"
   ]
  },
  {
   "cell_type": "code",
   "execution_count": 112,
   "metadata": {
    "scrolled": true
   },
   "outputs": [
    {
     "data": {
      "text/plain": [
       "Text(0,0.5,'average_Rating')"
      ]
     },
     "execution_count": 112,
     "metadata": {},
     "output_type": "execute_result"
    },
    {
     "data": {
      "image/png": "[encoded data removed]",
      "text/plain": [
       "<Figure size 432x288 with 1 Axes>"
      ]
     },
     "metadata": {},
     "output_type": "display_data"
    }
   ],
   "source": [
    "plt.plot(range(n_items), ratings.sum(axis = 0)/(ratings>0).sum(axis=0)) # A bar chart\n",
    "plt.xlabel(\"Movie_ID\")\n",
    "plt.ylabel(\"average_Rating\")"
   ]
  },
  {
   "cell_type": "code",
   "execution_count": 15,
   "metadata": {
    "scrolled": true
   },
   "outputs": [
    {
     "data": {
      "text/plain": [
       "array([[2., 2., 0., ..., 0., 0., 0.],\n",
       "       [0., 0., 0., ..., 0., 0., 0.],\n",
       "       [1., 5., 5., ..., 0., 0., 0.],\n",
       "       ...,\n",
       "       [0., 0., 0., ..., 0., 0., 0.],\n",
       "       [0., 0., 0., ..., 0., 0., 0.],\n",
       "       [4., 5., 0., ..., 0., 0., 0.]])"
      ]
     },
     "execution_count": 15,
     "metadata": {},
     "output_type": "execute_result"
    }
   ],
   "source": [
    "ratings[10:, 10:]"
   ]
  },
  {
   "cell_type": "code",
   "execution_count": 16,
   "metadata": {},
   "outputs": [],
   "source": [
    "def train_test_generation(ratings):\n",
    "    test = np.zeros(ratings.shape)\n",
    "    train = ratings.copy()\n",
    "    #for each user\n",
    "    for user in xrange(ratings.shape[0]):\n",
    "        # pick 10 ratings randomly from each user\n",
    "        test_ratings = np.random.choice(ratings[user, :].nonzero()[0], \n",
    "                                        size=10, \n",
    "                                        replace=False)\n",
    "        # set the ratings in training to be zero\n",
    "        train[user, test_ratings] = 0.\n",
    "        # set the ratings in the test to be the real value\n",
    "        test[user, test_ratings] = ratings[user, test_ratings]\n",
    "        \n",
    "    # Test and training are truly disjoint\n",
    "    assert(np.all((train * test) == 0)) \n",
    "    return train, test"
   ]
  },
  {
   "cell_type": "code",
   "execution_count": 17,
   "metadata": {},
   "outputs": [],
   "source": [
    "train, test = train_test_generation(ratings)\n",
    "train = np.ma.masked_where(train == 0, train) # ignore zeros in computation\n",
    "test = np.ma.masked_where(test == 0, test)"
   ]
  },
  {
   "cell_type": "code",
   "execution_count": 18,
   "metadata": {},
   "outputs": [
    {
     "data": {
      "text/plain": [
       "90570"
      ]
     },
     "execution_count": 18,
     "metadata": {},
     "output_type": "execute_result"
    }
   ],
   "source": [
    "len(train.nonzero()[0])"
   ]
  },
  {
   "cell_type": "code",
   "execution_count": 19,
   "metadata": {},
   "outputs": [
    {
     "data": {
      "text/plain": [
       "9430"
      ]
     },
     "execution_count": 19,
     "metadata": {},
     "output_type": "execute_result"
    }
   ],
   "source": [
    "len(test.nonzero()[0])"
   ]
  },
  {
   "cell_type": "code",
   "execution_count": 20,
   "metadata": {},
   "outputs": [
    {
     "data": {
      "text/plain": [
       "100000"
      ]
     },
     "execution_count": 20,
     "metadata": {},
     "output_type": "execute_result"
    }
   ],
   "source": [
    "len(ratings.nonzero()[0])"
   ]
  },
  {
   "cell_type": "code",
   "execution_count": 21,
   "metadata": {},
   "outputs": [],
   "source": [
    "# using MAE for evaluation\n",
    "# mean absolute error\n",
    "from sklearn.metrics import mean_absolute_error\n",
    "\n",
    "# pred and actual are matrices of N by p\n",
    "# actual can be test or training, depending on whether you are trying to \n",
    "# compute the test error or training error\n",
    "def get_mae(pred, actual):\n",
    "    # only compute on non-zero terms\n",
    "    pred = pred[actual.nonzero()].flatten() \n",
    "    actual = actual[actual.nonzero()].flatten()\n",
    "    return mean_absolute_error(pred, actual)"
   ]
  },
  {
   "cell_type": "code",
   "execution_count": 216,
   "metadata": {},
   "outputs": [],
   "source": [
    "def myPlot(pred, actual,title):\n",
    "    # pred here is the whole matrix, but we need to use the actual data to find the test part\n",
    "    # actual is the test set, which is also a matrix\n",
    "    pred = pred[actual.nonzero()].flatten()\n",
    "    actual = actual[actual.nonzero()].flatten()\n",
    "    plt.plot(actual, pred, 'ro')\n",
    "    plt.xlabel(\"actual\")\n",
    "    plt.ylabel(\"prediction\")\n",
    "    plt.xlim([0,6])\n",
    "    plt.title(title)\n",
    "    plt.show()"
   ]
  },
  {
   "cell_type": "code",
   "execution_count": 205,
   "metadata": {
    "scrolled": false
   },
   "outputs": [
    {
     "name": "stdout",
     "output_type": "stream",
     "text": [
      "[3.6030534351145036 3.673076923076923 2.8636363636363638 4.571428571428571\n",
      " 2.8727272727272726]\n",
      "Baseline model MAE: 0.8440545766994151\n"
     ]
    }
   ],
   "source": [
    "# baseline model, use user's rating average for prediction\n",
    "user_bias = train.mean(axis=1) \n",
    "# the average rating from each user, what the the possible worse value you can get here?\n",
    "\n",
    "print user_bias[:5]\n",
    "\n",
    "prediction_baseline = np.zeros(test.shape) + user_bias[:,np.newaxis] \n",
    "print 'Baseline model MAE: ' + str(get_mae(prediction_baseline, test))\n",
    "# the mean error for predicted ratings"
   ]
  },
  {
   "cell_type": "markdown",
   "metadata": {},
   "source": [
    "## to predict current user's rating to current movie \n",
    "## we find similar users as the current user based on their previous rating performance \n",
    "## use the rating from similar users to predict the current user's rating on a movie he has not rated"
   ]
  },
  {
   "cell_type": "markdown",
   "metadata": {},
   "source": [
    "![title](cosinsimilar.png)"
   ]
  },
  {
   "cell_type": "code",
   "execution_count": 206,
   "metadata": {},
   "outputs": [],
   "source": [
    "# first part, user-based and item-based collaborative filtering\n",
    "from sklearn.metrics.pairwise import cosine_similarity\n",
    "\n",
    "# similarity matrix is always symmetric\n",
    "# symmetric along diagonal, here we only still fill in zeros, \n",
    "# since the cosine_similarity can't recognize the masked value.\n",
    "# if we really want to make it work, need to implement a special similarity function \n",
    "def similarity(ratings, kind='user'):\n",
    "    if kind == 'user':\n",
    "        sim = cosine_similarity(ratings) \n",
    "        #cosine_similarity, treat one row as one data point\n",
    "        # sim is a N by N matrix\n",
    "        assert(sim.shape[0] == ratings.shape[0])\n",
    "    elif kind == 'item':\n",
    "        sim = cosine_similarity(ratings.T)\n",
    "        # sim is a p by p matrix\n",
    "        assert(sim.shape[0] == ratings.shape[1])\n",
    "    sim[np.isnan(sim)] = 0 # when could nan happen? think about it \n",
    "    np.fill_diagonal(sim,0) # when compute neighbors, we don't need to compute itself\n",
    "    return sim"
   ]
  },
  {
   "cell_type": "code",
   "execution_count": 207,
   "metadata": {},
   "outputs": [
    {
     "name": "stdout",
     "output_type": "stream",
     "text": [
      "[[0.         0.14704878 0.0404896  0.0656254 ]\n",
      " [0.14704878 0.         0.11587296 0.19447318]\n",
      " [0.0404896  0.11587296 0.         0.25362461]\n",
      " [0.0656254  0.19447318 0.25362461 0.        ]]\n",
      "[[0.         0.39991678 0.31821772 0.44342412]\n",
      " [0.39991678 0.         0.29209442 0.49576936]\n",
      " [0.31821772 0.29209442 0.         0.30230919]\n",
      " [0.44342412 0.49576936 0.30230919 0.        ]]\n"
     ]
    }
   ],
   "source": [
    "user_similarity = similarity(train, kind='user')\n",
    "item_similarity = similarity(train, kind='item')\n",
    "print user_similarity[:4, :4]\n",
    "print item_similarity[:4, :4]"
   ]
  },
  {
   "cell_type": "code",
   "execution_count": 208,
   "metadata": {},
   "outputs": [
    {
     "name": "stdout",
     "output_type": "stream",
     "text": [
      "0.7911266900280762\n",
      "0.14327250070158856\n",
      "0.0\n",
      "1.0\n",
      "0.08556359368305448\n",
      "0.0\n"
     ]
    }
   ],
   "source": [
    "print user_similarity.max()\n",
    "print user_similarity.mean()\n",
    "print user_similarity.min()\n",
    "\n",
    "print item_similarity.max()\n",
    "print item_similarity.mean()\n",
    "print item_similarity.min()\n",
    "\n",
    "# consine similarity always report positive value or 0"
   ]
  },
  {
   "cell_type": "code",
   "execution_count": 209,
   "metadata": {},
   "outputs": [
    {
     "data": {
      "text/plain": [
       "(array([1234, 1309, 1328, 1612, 1652, 1653, 1662, 1679]),)"
      ]
     },
     "execution_count": 209,
     "metadata": {},
     "output_type": "execute_result"
    }
   ],
   "source": [
    "np.nonzero(np.ma.getmask(train.mean(axis=0))) # we have some items without any ratings"
   ]
  },
  {
   "cell_type": "code",
   "execution_count": 210,
   "metadata": {},
   "outputs": [
    {
     "data": {
      "text/plain": [
       "(943, 943)"
      ]
     },
     "execution_count": 210,
     "metadata": {},
     "output_type": "execute_result"
    }
   ],
   "source": [
    "user_similarity.shape"
   ]
  },
  {
   "cell_type": "markdown",
   "metadata": {},
   "source": [
    "![title](userbasedCF.png)"
   ]
  },
  {
   "cell_type": "code",
   "execution_count": 211,
   "metadata": {},
   "outputs": [],
   "source": [
    "# prediction function\n",
    "# use all ratings, including zero\n",
    "def predict(ratings, similarity, kind='user'):\n",
    "    if kind == 'user':\n",
    "        user_bias = ratings.mean(axis=1)\n",
    "        ratings = (ratings - user_bias[:, np.newaxis]).copy()\n",
    "        # in case there is a whole column or row with zero, \n",
    "        # i.e. this user/item is not similar to any others, add a small number \n",
    "        \n",
    "        # similarity is a matrix of N by N, row i is the similarity of user i to all other people\n",
    "        # ratings is a matrix of N by p (centralized already), column k is the ratings from all the people for item k \n",
    "        # for one row of similarity dot product with one column of rating,\n",
    "        # we compute the sum of the weighted ratings for all neighbors for user i, \"sum(sim(k,n)*r_ni)\"\n",
    "        # this value, divided by the sum of all the similarities for user i, and added back the user_bias\n",
    "        # will be the pred(i, k)\n",
    "        \n",
    "        pred = np.ma.dot(similarity, ratings) / np.array([np.abs(similarity).sum(axis=1)+1e-6]).T\n",
    "        pred += user_bias[:, np.newaxis]\n",
    "        \n",
    "    elif kind == 'item':\n",
    "        item_bias = ratings.mean(axis=0)\n",
    "        ratings = (ratings - item_bias[np.newaxis, :]).copy()\n",
    "        pred = np.ma.dot(ratings, similarity) / np.array([np.abs(similarity).sum(axis=1)+1e-6])\n",
    "        pred += item_bias[np.newaxis, :]\n",
    "    \n",
    "    return pred\n"
   ]
  },
  {
   "cell_type": "code",
   "execution_count": 217,
   "metadata": {},
   "outputs": [
    {
     "name": "stdout",
     "output_type": "stream",
     "text": [
      "User-based CF train MAE: 0.7918403531770507\n",
      "Item-based CF train MAE: 0.7668755851644709\n",
      "User-based CF test MAE: 0.815264044486309\n",
      "Item-based CF test MAE: 0.82640924376463\n"
     ]
    },
    {
     "data": {
      "image/png": "[encoded data removed]",
      "text/plain": [
       "<Figure size 432x288 with 1 Axes>"
      ]
     },
     "metadata": {},
     "output_type": "display_data"
    },
    {
     "data": {
      "image/png": "[encoded data removed]",
      "text/plain": [
       "<Figure size 432x288 with 1 Axes>"
      ]
     },
     "metadata": {},
     "output_type": "display_data"
    }
   ],
   "source": [
    "user_prediction = predict(train, user_similarity, kind='user')\n",
    "item_prediction = predict(train, item_similarity, kind='item')\n",
    "\n",
    "print 'User-based CF train MAE: ' + str(get_mae(user_prediction, train))\n",
    "print 'Item-based CF train MAE: ' + str(get_mae(item_prediction, train))\n",
    "print 'User-based CF test MAE: ' + str(get_mae(user_prediction, test))\n",
    "print 'Item-based CF test MAE: ' + str(get_mae(item_prediction, test))\n",
    "myPlot(user_prediction, test, 'userbased')\n",
    "myPlot(item_prediction, test, 'itembased')"
   ]
  },
  {
   "cell_type": "code",
   "execution_count": 31,
   "metadata": {},
   "outputs": [],
   "source": [
    "user_sim_nearest_neighbor = user_similarity.copy()\n",
    "user_sim_nearest_neighbor[user_sim_nearest_neighbor<0.30]=0\n",
    "\n",
    "item_sim_nearest_neighbor = item_similarity.copy()\n",
    "item_sim_nearest_neighbor[item_sim_nearest_neighbor<0.30]=0\n"
   ]
  },
  {
   "cell_type": "code",
   "execution_count": 32,
   "metadata": {},
   "outputs": [
    {
     "name": "stdout",
     "output_type": "stream",
     "text": [
      "User-based CF train MAE: 0.7720905648013537\n",
      "Item-based CF train MAE: 0.7354196669023171\n",
      "User-based CF test MAE: 0.806253443122098\n",
      "Item-based CF test MAE: 0.8078639555962539\n"
     ]
    },
    {
     "data": {
      "image/png": "[encoded data removed]",
      "text/plain": [
       "<Figure size 432x288 with 1 Axes>"
      ]
     },
     "metadata": {},
     "output_type": "display_data"
    },
    {
     "data": {
      "image/png": "[encoded data removed]",
      "text/plain": [
       "<Figure size 432x288 with 1 Axes>"
      ]
     },
     "metadata": {},
     "output_type": "display_data"
    }
   ],
   "source": [
    "user_prediction = predict(train, user_sim_nearest_neighbor, kind='user')\n",
    "item_prediction = predict(train, item_sim_nearest_neighbor, kind='item')\n",
    "\n",
    "print 'User-based CF train MAE: ' + str(get_mae(user_prediction, train))\n",
    "print 'Item-based CF train MAE: ' + str(get_mae(item_prediction, train))\n",
    "print 'User-based CF test MAE: ' + str(get_mae(user_prediction, test))\n",
    "print 'Item-based CF test MAE: ' + str(get_mae(item_prediction, test))\n",
    "myPlot(user_prediction, test)\n",
    "myPlot(item_prediction, test)"
   ]
  },
  {
   "cell_type": "code",
   "execution_count": 230,
   "metadata": {},
   "outputs": [
    {
     "name": "stdout",
     "output_type": "stream",
     "text": [
      "Matrix Factorization CF training MAE: 0.6613324029129294\n",
      "Matrix Factorization CF test MAE: 0.7999074811998661\n"
     ]
    },
    {
     "data": {
      "image/png": "[encoded data removed]",
      "text/plain": [
       "<Figure size 432x288 with 1 Axes>"
      ]
     },
     "metadata": {},
     "output_type": "display_data"
    }
   ],
   "source": [
    "# **********************************************************************************************\n",
    "\n",
    "# assume unseen ratings are all zero\n",
    "# try using user mean, will it be better?\n",
    "\n",
    "from scipy.sparse.linalg import svds # svd solver\n",
    "\n",
    "user_ratings_mean = np.mean(train, axis = 1)\n",
    "R_demeaned = train - user_ratings_mean.reshape(-1, 1)\n",
    "U, sigma, Vt = svds(R_demeaned, k=20) #solve for svd, sigma is returned a vector\n",
    "sigma = np.diag(sigma) # create a diagonal matrix\n",
    "# dignonal matrix example\n",
    "# 2 0 0\n",
    "# 0 1 0 \n",
    "# 0 0 0.5\n",
    "\n",
    "# np.dot(np.dot(U, sigma), Vt) is a low rank estimation to the R_demeaned\n",
    "all_user_predicted_ratings = np.dot(np.dot(U, sigma), Vt) + user_ratings_mean.reshape(-1, 1)\n",
    "print 'Matrix Factorization CF training MAE: ' + str(get_mae(all_user_predicted_ratings, train))\n",
    "print 'Matrix Factorization CF test MAE: ' + str(get_mae(all_user_predicted_ratings, test))\n",
    "myPlot(all_user_predicted_ratings, test, 'SVD')"
   ]
  },
  {
   "cell_type": "code",
   "execution_count": 229,
   "metadata": {},
   "outputs": [],
   "source": [
    "def mySVD(train, test, k):\n",
    "    user_ratings_mean = np.mean(train, axis = 1)\n",
    "    R_demeaned = train - user_ratings_mean.reshape(-1, 1)\n",
    "    U, sigma, Vt = svds(R_demeaned, k=k)\n",
    "    sigma = np.diag(sigma)\n",
    "    all_user_predicted_ratings = np.dot(np.dot(U, sigma), Vt) + user_ratings_mean.reshape(-1, 1)\n",
    "    return get_mae(all_user_predicted_ratings, train), get_mae(all_user_predicted_ratings, test)"
   ]
  },
  {
   "cell_type": "code",
   "execution_count": 255,
   "metadata": {
    "scrolled": true
   },
   "outputs": [],
   "source": [
    "ks = [1,2,5,8,10,15,20,30,50,100]\n",
    "train_MAEs = []\n",
    "test_MAEs = []\n",
    "for k in ks:\n",
    "    train_MAE, test_MAE = mySVD(train, test, k)\n",
    "    train_MAEs.append(train_MAE)\n",
    "    test_MAEs.append(test_MAE)\n"
   ]
  },
  {
   "cell_type": "code",
   "execution_count": 262,
   "metadata": {
    "scrolled": false
   },
   "outputs": [
    {
     "data": {
      "image/png": "[encoded data removed]",
      "text/plain": [
       "<Figure size 432x288 with 1 Axes>"
      ]
     },
     "metadata": {},
     "output_type": "display_data"
    }
   ],
   "source": [
    "plt.plot(ks, train_MAEs, 'r', label = 'training error')\n",
    "plt.plot(ks, test_MAEs, 'b',label = 'training error')\n",
    "plt.xlabel(\"k\")\n",
    "plt.ylabel(\"MAE\")\n",
    "plt.show()\n"
   ]
  },
  {
   "cell_type": "markdown",
   "metadata": {},
   "source": [
    "![title](SGD.png)"
   ]
  },
  {
   "cell_type": "code",
   "execution_count": null,
   "metadata": {},
   "outputs": [],
   "source": [
    "# directly optimize the objective function, on the seen ratings\n",
    "# ideally we should wait till the algorithm find a local minimum, but stop earlier sometimes\n",
    "# will provide better prediction power\n",
    "\n",
    "import numpy\n",
    "\n",
    "#beta regularization\n",
    "#alpha learning rate\n",
    "\n",
    "def matrix_factorization(train, K, steps=10, alpha=0.0001, beta=0.02):\n",
    "    N_user, N_item = train.shape\n",
    "    # U and V are latent vectors\n",
    "    U = numpy.random.rand(N_user,K)\n",
    "    V = numpy.random.rand(N_item,K).T\n",
    "    \n",
    "    for step in xrange(steps):\n",
    "        for i in xrange(N_user):\n",
    "            for j in xrange(N_item):\n",
    "                if train[i,j] > 0:\n",
    "                    eij = numpy.dot(U[i,:],V[:,j]) - train[i][j]  \n",
    "                    U[i] = U[i] - alpha * (2 * eij * V[:,j] + beta * U[i])\n",
    "                    V[:,j] = V[:,j] - alpha * (2 * eij * U[i] + beta * V[:,j])\n",
    "    \n",
    "    nR = numpy.dot(U, V)\n",
    "    return nR"
   ]
  },
  {
   "cell_type": "code",
   "execution_count": 52,
   "metadata": {},
   "outputs": [],
   "source": [
    "K = 10\n",
    "\n",
    "prediction_sgd = matrix_factorization(train, K=10, steps=10, alpha=0.001)\n"
   ]
  },
  {
   "cell_type": "code",
   "execution_count": 248,
   "metadata": {},
   "outputs": [
    {
     "name": "stdout",
     "output_type": "stream",
     "text": [
      "Matrix Factorization SGD CF MAE training: 0.7297593229720716\n",
      "Matrix Factorization SGD CF MAE test: 0.7992031492256381\n"
     ]
    }
   ],
   "source": [
    "print 'Matrix Factorization SGD CF MAE training: ' + str(get_mae(prediction_sgd, train))\n",
    "print 'Matrix Factorization SGD CF MAE test: ' + str(get_mae(prediction_sgd, test))"
   ]
  },
  {
   "cell_type": "code",
   "execution_count": 54,
   "metadata": {},
   "outputs": [
    {
     "data": {
      "image/png": "[encoded data removed]",
      "text/plain": [
       "<Figure size 432x288 with 1 Axes>"
      ]
     },
     "metadata": {},
     "output_type": "display_data"
    }
   ],
   "source": [
    "myPlot(prediction_sgd, test)"
   ]
  },
  {
   "cell_type": "code",
   "execution_count": 246,
   "metadata": {},
   "outputs": [
    {
     "data": {
      "text/plain": [
       "Text(0.5,1,'prediction by different models')"
      ]
     },
     "execution_count": 246,
     "metadata": {},
     "output_type": "execute_result"
    },
    {
     "data": {
      "image/png": "[encoded data removed]",
      "text/plain": [
       "<Figure size 432x288 with 1 Axes>"
      ]
     },
     "metadata": {},
     "output_type": "display_data"
    }
   ],
   "source": [
    "names = ['User','Item','SVD','SGD']\n",
    "CFmae = [get_mae(user_prediction,test),get_mae(item_prediction,test),get_mae(all_user_predicted_ratings, test),get_mae(prediction_sgd, test)]\n",
    "plt.bar(names,CFmae)\n",
    "plt.ylabel('Mean Absolute Error')\n",
    "plt.ylim(0.79, 0.83)\n",
    "plt.title('prediction by different models')\n"
   ]
  },
  {
   "cell_type": "code",
   "execution_count": null,
   "metadata": {},
   "outputs": [],
   "source": []
  }
 ],
 "metadata": {
  "anaconda-cloud": {},
  "kernelspec": {
   "display_name": "Python 2",
   "language": "python",
   "name": "python2"
  },
  "language_info": {
   "codemirror_mode": {
    "name": "ipython",
    "version": 2
   },
   "file_extension": ".py",
   "mimetype": "text/x-python",
   "name": "python",
   "nbconvert_exporter": "python",
   "pygments_lexer": "ipython2",
   "version": "2.7.15"
  }
 },
 "nbformat": 4,
 "nbformat_minor": 1
}
